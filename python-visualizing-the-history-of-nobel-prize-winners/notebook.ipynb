{
 "cells": [
  {
   "cell_type": "markdown",
   "id": "53cf3907",
   "metadata": {},
   "source": [
    "# Visualizing the History of Nobel Prize Winners"
   ]
  },
  {
   "cell_type": "markdown",
   "id": "db5bd2ce-918a-4f7d-a927-a3ea74c4b456",
   "metadata": {},
   "source": [
    "The Nobel Prize has been among the most prestigious international awards since 1901. Each year, awards   \n",
    "are bestowed in chemistry, literature, physics, physiology or medicine, economics, and peace. In addition   \n",
    "to the honor, prestige, and substantial prize money, the recipient also gets a gold medal with an image of   \n",
    "Alfred Nobel (1833 - 1896), who established the prize.\n",
    "\n",
    "<img src=\"nobel_prize.png\" alt=\"Nobel Prize gold medal\">\n",
    "\n",
    "The Nobel Foundation has made a dataset available of all prize winners from the outset of the awards from   \n",
    "1901 to 2023. The dataset used in this project is from the Nobel Prize API and is available in the `nobel.csv`   \n",
    "file in the `data` folder."
   ]
  },
  {
   "cell_type": "code",
   "execution_count": 40,
   "id": "7fe4ec34",
   "metadata": {},
   "outputs": [],
   "source": [
    "# Import required libraries\n",
    "import pandas as pd\n",
    "import numpy as np \n",
    "import matplotlib.pyplot as plt \n",
    "import seaborn as sns\n",
    "\n",
    "# Change the default console output settings in NumPy and pandas to improve readability\n",
    "pd.options.display.max_columns = 20\n",
    "pd.options.display.max_rows = 20\n",
    "pd.options.display.max_colwidth = 80\n",
    "np.set_printoptions(precision=4, suppress=True)"
   ]
  },
  {
   "cell_type": "code",
   "execution_count": 41,
   "id": "121de129",
   "metadata": {},
   "outputs": [
    {
     "data": {
      "text/html": [
       "<div>\n",
       "<style scoped>\n",
       "    .dataframe tbody tr th:only-of-type {\n",
       "        vertical-align: middle;\n",
       "    }\n",
       "\n",
       "    .dataframe tbody tr th {\n",
       "        vertical-align: top;\n",
       "    }\n",
       "\n",
       "    .dataframe thead th {\n",
       "        text-align: right;\n",
       "    }\n",
       "</style>\n",
       "<table border=\"1\" class=\"dataframe\">\n",
       "  <thead>\n",
       "    <tr style=\"text-align: right;\">\n",
       "      <th></th>\n",
       "      <th>year</th>\n",
       "      <th>category</th>\n",
       "      <th>prize</th>\n",
       "      <th>motivation</th>\n",
       "      <th>prize_share</th>\n",
       "      <th>laureate_id</th>\n",
       "      <th>laureate_type</th>\n",
       "      <th>full_name</th>\n",
       "      <th>birth_date</th>\n",
       "      <th>birth_city</th>\n",
       "      <th>birth_country</th>\n",
       "      <th>sex</th>\n",
       "      <th>organization_name</th>\n",
       "      <th>organization_city</th>\n",
       "      <th>organization_country</th>\n",
       "      <th>death_date</th>\n",
       "      <th>death_city</th>\n",
       "      <th>death_country</th>\n",
       "    </tr>\n",
       "  </thead>\n",
       "  <tbody>\n",
       "    <tr>\n",
       "      <th>0</th>\n",
       "      <td>1901</td>\n",
       "      <td>Chemistry</td>\n",
       "      <td>The Nobel Prize in Chemistry 1901</td>\n",
       "      <td>\"in recognition of the extraordinary services he has rendered by the discove...</td>\n",
       "      <td>1/1</td>\n",
       "      <td>160</td>\n",
       "      <td>Individual</td>\n",
       "      <td>Jacobus Henricus van 't Hoff</td>\n",
       "      <td>1852-08-30</td>\n",
       "      <td>Rotterdam</td>\n",
       "      <td>Netherlands</td>\n",
       "      <td>Male</td>\n",
       "      <td>Berlin University</td>\n",
       "      <td>Berlin</td>\n",
       "      <td>Germany</td>\n",
       "      <td>1911-03-01</td>\n",
       "      <td>Berlin</td>\n",
       "      <td>Germany</td>\n",
       "    </tr>\n",
       "    <tr>\n",
       "      <th>1</th>\n",
       "      <td>1901</td>\n",
       "      <td>Literature</td>\n",
       "      <td>The Nobel Prize in Literature 1901</td>\n",
       "      <td>\"in special recognition of his poetic composition, which gives evidence of l...</td>\n",
       "      <td>1/1</td>\n",
       "      <td>569</td>\n",
       "      <td>Individual</td>\n",
       "      <td>Sully Prudhomme</td>\n",
       "      <td>1839-03-16</td>\n",
       "      <td>Paris</td>\n",
       "      <td>France</td>\n",
       "      <td>Male</td>\n",
       "      <td>NaN</td>\n",
       "      <td>NaN</td>\n",
       "      <td>NaN</td>\n",
       "      <td>1907-09-07</td>\n",
       "      <td>Châtenay</td>\n",
       "      <td>France</td>\n",
       "    </tr>\n",
       "    <tr>\n",
       "      <th>2</th>\n",
       "      <td>1901</td>\n",
       "      <td>Medicine</td>\n",
       "      <td>The Nobel Prize in Physiology or Medicine 1901</td>\n",
       "      <td>\"for his work on serum therapy, especially its application against diphtheri...</td>\n",
       "      <td>1/1</td>\n",
       "      <td>293</td>\n",
       "      <td>Individual</td>\n",
       "      <td>Emil Adolf von Behring</td>\n",
       "      <td>1854-03-15</td>\n",
       "      <td>Hansdorf (Lawice)</td>\n",
       "      <td>Prussia (Poland)</td>\n",
       "      <td>Male</td>\n",
       "      <td>Marburg University</td>\n",
       "      <td>Marburg</td>\n",
       "      <td>Germany</td>\n",
       "      <td>1917-03-31</td>\n",
       "      <td>Marburg</td>\n",
       "      <td>Germany</td>\n",
       "    </tr>\n",
       "  </tbody>\n",
       "</table>\n",
       "</div>"
      ],
      "text/plain": [
       "   year    category                                           prize  \\\n",
       "0  1901   Chemistry               The Nobel Prize in Chemistry 1901   \n",
       "1  1901  Literature              The Nobel Prize in Literature 1901   \n",
       "2  1901    Medicine  The Nobel Prize in Physiology or Medicine 1901   \n",
       "\n",
       "                                                                        motivation  \\\n",
       "0  \"in recognition of the extraordinary services he has rendered by the discove...   \n",
       "1  \"in special recognition of his poetic composition, which gives evidence of l...   \n",
       "2  \"for his work on serum therapy, especially its application against diphtheri...   \n",
       "\n",
       "  prize_share  laureate_id laureate_type                     full_name  \\\n",
       "0         1/1          160    Individual  Jacobus Henricus van 't Hoff   \n",
       "1         1/1          569    Individual               Sully Prudhomme   \n",
       "2         1/1          293    Individual        Emil Adolf von Behring   \n",
       "\n",
       "   birth_date         birth_city     birth_country   sex   organization_name  \\\n",
       "0  1852-08-30          Rotterdam       Netherlands  Male   Berlin University   \n",
       "1  1839-03-16              Paris            France  Male                 NaN   \n",
       "2  1854-03-15  Hansdorf (Lawice)  Prussia (Poland)  Male  Marburg University   \n",
       "\n",
       "  organization_city organization_country  death_date death_city death_country  \n",
       "0            Berlin              Germany  1911-03-01     Berlin       Germany  \n",
       "1               NaN                  NaN  1907-09-07   Châtenay        France  \n",
       "2           Marburg              Germany  1917-03-31    Marburg       Germany  "
      ]
     },
     "execution_count": 41,
     "metadata": {},
     "output_type": "execute_result"
    }
   ],
   "source": [
    "# Load the dataset\n",
    "nobel = pd.read_csv(\"data/nobel.csv\")\n",
    "\n",
    "# Preview the dataset\n",
    "nobel.head(3)"
   ]
  },
  {
   "cell_type": "markdown",
   "id": "382405b2",
   "metadata": {},
   "source": [
    "**Analyze the `nobel.csv` dataset to answer the following questions:**"
   ]
  },
  {
   "cell_type": "markdown",
   "id": "48e5eec1",
   "metadata": {},
   "source": [
    "* What is the most commonly awarded gender and birth country?\n",
    "\n",
    "* Which decade had the highest ratio of US-born Nobel Prize winners  \n",
    "to total winners in all categories?\n",
    "\n",
    "* Which decade and Nobel Prize category combination had the highest  \n",
    "proportion of female laureates?\n",
    "\n",
    "* Who was the first woman to receive a Nobel Prize, and in what category?\n",
    "\n",
    "* Which individuals or organizations have won more than one Nobel Prize  \n",
    "throughout the years?"
   ]
  },
  {
   "cell_type": "markdown",
   "id": "dacb76ed",
   "metadata": {},
   "source": [
    "**1. Find the most common gender and birth country**"
   ]
  },
  {
   "cell_type": "code",
   "execution_count": 42,
   "id": "c7b3948b",
   "metadata": {},
   "outputs": [
    {
     "name": "stdout",
     "output_type": "stream",
     "text": [
      "The most commonly awarded gender: Male\n",
      "\n",
      "The most commonly awarded country: United States of America\n"
     ]
    }
   ],
   "source": [
    "# Find the most common gender\n",
    "top_gender = nobel[\"sex\"].value_counts().index[0]\n",
    "\n",
    "print(f\"The most commonly awarded gender: {top_gender}\")\n",
    "\n",
    "# Find the most common birth country\n",
    "top_country = nobel[\"birth_country\"].value_counts().index[0]\n",
    "\n",
    "print(f\"\\nThe most commonly awarded country: {top_country}\")"
   ]
  },
  {
   "cell_type": "markdown",
   "id": "4d712655",
   "metadata": {},
   "source": [
    "**2. Identify the decade with the highest ratio of US-born winners**"
   ]
  },
  {
   "cell_type": "code",
   "execution_count": 43,
   "id": "b7598440",
   "metadata": {},
   "outputs": [
    {
     "data": {
      "text/html": [
       "<div>\n",
       "<style scoped>\n",
       "    .dataframe tbody tr th:only-of-type {\n",
       "        vertical-align: middle;\n",
       "    }\n",
       "\n",
       "    .dataframe tbody tr th {\n",
       "        vertical-align: top;\n",
       "    }\n",
       "\n",
       "    .dataframe thead th {\n",
       "        text-align: right;\n",
       "    }\n",
       "</style>\n",
       "<table border=\"1\" class=\"dataframe\">\n",
       "  <thead>\n",
       "    <tr style=\"text-align: right;\">\n",
       "      <th></th>\n",
       "      <th>year</th>\n",
       "      <th>category</th>\n",
       "      <th>prize</th>\n",
       "      <th>motivation</th>\n",
       "      <th>prize_share</th>\n",
       "      <th>laureate_id</th>\n",
       "      <th>laureate_type</th>\n",
       "      <th>full_name</th>\n",
       "      <th>birth_date</th>\n",
       "      <th>birth_city</th>\n",
       "      <th>birth_country</th>\n",
       "      <th>sex</th>\n",
       "      <th>organization_name</th>\n",
       "      <th>organization_city</th>\n",
       "      <th>organization_country</th>\n",
       "      <th>death_date</th>\n",
       "      <th>death_city</th>\n",
       "      <th>death_country</th>\n",
       "      <th>usa_born_winner</th>\n",
       "      <th>decade</th>\n",
       "    </tr>\n",
       "  </thead>\n",
       "  <tbody>\n",
       "    <tr>\n",
       "      <th>0</th>\n",
       "      <td>1901</td>\n",
       "      <td>Chemistry</td>\n",
       "      <td>The Nobel Prize in Chemistry 1901</td>\n",
       "      <td>\"in recognition of the extraordinary services he has rendered by the discove...</td>\n",
       "      <td>1/1</td>\n",
       "      <td>160</td>\n",
       "      <td>Individual</td>\n",
       "      <td>Jacobus Henricus van 't Hoff</td>\n",
       "      <td>1852-08-30</td>\n",
       "      <td>Rotterdam</td>\n",
       "      <td>Netherlands</td>\n",
       "      <td>Male</td>\n",
       "      <td>Berlin University</td>\n",
       "      <td>Berlin</td>\n",
       "      <td>Germany</td>\n",
       "      <td>1911-03-01</td>\n",
       "      <td>Berlin</td>\n",
       "      <td>Germany</td>\n",
       "      <td>False</td>\n",
       "      <td>1900</td>\n",
       "    </tr>\n",
       "    <tr>\n",
       "      <th>1</th>\n",
       "      <td>1901</td>\n",
       "      <td>Literature</td>\n",
       "      <td>The Nobel Prize in Literature 1901</td>\n",
       "      <td>\"in special recognition of his poetic composition, which gives evidence of l...</td>\n",
       "      <td>1/1</td>\n",
       "      <td>569</td>\n",
       "      <td>Individual</td>\n",
       "      <td>Sully Prudhomme</td>\n",
       "      <td>1839-03-16</td>\n",
       "      <td>Paris</td>\n",
       "      <td>France</td>\n",
       "      <td>Male</td>\n",
       "      <td>NaN</td>\n",
       "      <td>NaN</td>\n",
       "      <td>NaN</td>\n",
       "      <td>1907-09-07</td>\n",
       "      <td>Châtenay</td>\n",
       "      <td>France</td>\n",
       "      <td>False</td>\n",
       "      <td>1900</td>\n",
       "    </tr>\n",
       "    <tr>\n",
       "      <th>2</th>\n",
       "      <td>1901</td>\n",
       "      <td>Medicine</td>\n",
       "      <td>The Nobel Prize in Physiology or Medicine 1901</td>\n",
       "      <td>\"for his work on serum therapy, especially its application against diphtheri...</td>\n",
       "      <td>1/1</td>\n",
       "      <td>293</td>\n",
       "      <td>Individual</td>\n",
       "      <td>Emil Adolf von Behring</td>\n",
       "      <td>1854-03-15</td>\n",
       "      <td>Hansdorf (Lawice)</td>\n",
       "      <td>Prussia (Poland)</td>\n",
       "      <td>Male</td>\n",
       "      <td>Marburg University</td>\n",
       "      <td>Marburg</td>\n",
       "      <td>Germany</td>\n",
       "      <td>1917-03-31</td>\n",
       "      <td>Marburg</td>\n",
       "      <td>Germany</td>\n",
       "      <td>False</td>\n",
       "      <td>1900</td>\n",
       "    </tr>\n",
       "  </tbody>\n",
       "</table>\n",
       "</div>"
      ],
      "text/plain": [
       "   year    category                                           prize  \\\n",
       "0  1901   Chemistry               The Nobel Prize in Chemistry 1901   \n",
       "1  1901  Literature              The Nobel Prize in Literature 1901   \n",
       "2  1901    Medicine  The Nobel Prize in Physiology or Medicine 1901   \n",
       "\n",
       "                                                                        motivation  \\\n",
       "0  \"in recognition of the extraordinary services he has rendered by the discove...   \n",
       "1  \"in special recognition of his poetic composition, which gives evidence of l...   \n",
       "2  \"for his work on serum therapy, especially its application against diphtheri...   \n",
       "\n",
       "  prize_share  laureate_id laureate_type                     full_name  \\\n",
       "0         1/1          160    Individual  Jacobus Henricus van 't Hoff   \n",
       "1         1/1          569    Individual               Sully Prudhomme   \n",
       "2         1/1          293    Individual        Emil Adolf von Behring   \n",
       "\n",
       "   birth_date         birth_city     birth_country   sex   organization_name  \\\n",
       "0  1852-08-30          Rotterdam       Netherlands  Male   Berlin University   \n",
       "1  1839-03-16              Paris            France  Male                 NaN   \n",
       "2  1854-03-15  Hansdorf (Lawice)  Prussia (Poland)  Male  Marburg University   \n",
       "\n",
       "  organization_city organization_country  death_date death_city death_country  \\\n",
       "0            Berlin              Germany  1911-03-01     Berlin       Germany   \n",
       "1               NaN                  NaN  1907-09-07   Châtenay        France   \n",
       "2           Marburg              Germany  1917-03-31    Marburg       Germany   \n",
       "\n",
       "   usa_born_winner  decade  \n",
       "0            False    1900  \n",
       "1            False    1900  \n",
       "2            False    1900  "
      ]
     },
     "execution_count": 43,
     "metadata": {},
     "output_type": "execute_result"
    }
   ],
   "source": [
    "# Create a 'usa_born_winner' column that will contain only boolean values\n",
    "nobel[\"usa_born_winner\"] = nobel[\"birth_country\"] == \"United States of America\"\n",
    "\n",
    "# Create a 'decade' column\n",
    "nobel[\"decade\"] = (np.floor(nobel[\"year\"]/10) * 10).astype(int)\n",
    "\n",
    "# Preview the DataFrame\n",
    "nobel.head(3)"
   ]
  },
  {
   "cell_type": "code",
   "execution_count": 44,
   "id": "95744c48",
   "metadata": {},
   "outputs": [
    {
     "data": {
      "text/html": [
       "<div>\n",
       "<style scoped>\n",
       "    .dataframe tbody tr th:only-of-type {\n",
       "        vertical-align: middle;\n",
       "    }\n",
       "\n",
       "    .dataframe tbody tr th {\n",
       "        vertical-align: top;\n",
       "    }\n",
       "\n",
       "    .dataframe thead th {\n",
       "        text-align: right;\n",
       "    }\n",
       "</style>\n",
       "<table border=\"1\" class=\"dataframe\">\n",
       "  <thead>\n",
       "    <tr style=\"text-align: right;\">\n",
       "      <th></th>\n",
       "      <th>decade</th>\n",
       "      <th>usa_born_winner</th>\n",
       "    </tr>\n",
       "  </thead>\n",
       "  <tbody>\n",
       "    <tr>\n",
       "      <th>0</th>\n",
       "      <td>1900</td>\n",
       "      <td>0.017544</td>\n",
       "    </tr>\n",
       "    <tr>\n",
       "      <th>1</th>\n",
       "      <td>1910</td>\n",
       "      <td>0.075000</td>\n",
       "    </tr>\n",
       "    <tr>\n",
       "      <th>2</th>\n",
       "      <td>1920</td>\n",
       "      <td>0.074074</td>\n",
       "    </tr>\n",
       "    <tr>\n",
       "      <th>3</th>\n",
       "      <td>1930</td>\n",
       "      <td>0.250000</td>\n",
       "    </tr>\n",
       "    <tr>\n",
       "      <th>4</th>\n",
       "      <td>1940</td>\n",
       "      <td>0.302326</td>\n",
       "    </tr>\n",
       "  </tbody>\n",
       "</table>\n",
       "</div>"
      ],
      "text/plain": [
       "   decade  usa_born_winner\n",
       "0    1900         0.017544\n",
       "1    1910         0.075000\n",
       "2    1920         0.074074\n",
       "3    1930         0.250000\n",
       "4    1940         0.302326"
      ]
     },
     "execution_count": 44,
     "metadata": {},
     "output_type": "execute_result"
    }
   ],
   "source": [
    "# Find the ratio of US-born winners\n",
    "usa_born_ratio = nobel.groupby(\"decade\", as_index=False)[\"usa_born_winner\"].mean()\n",
    "\n",
    "usa_born_ratio.head()"
   ]
  },
  {
   "cell_type": "code",
   "execution_count": 45,
   "id": "877c6f09",
   "metadata": {},
   "outputs": [
    {
     "data": {
      "text/html": [
       "<div>\n",
       "<style scoped>\n",
       "    .dataframe tbody tr th:only-of-type {\n",
       "        vertical-align: middle;\n",
       "    }\n",
       "\n",
       "    .dataframe tbody tr th {\n",
       "        vertical-align: top;\n",
       "    }\n",
       "\n",
       "    .dataframe thead th {\n",
       "        text-align: right;\n",
       "    }\n",
       "</style>\n",
       "<table border=\"1\" class=\"dataframe\">\n",
       "  <thead>\n",
       "    <tr style=\"text-align: right;\">\n",
       "      <th></th>\n",
       "      <th>decade</th>\n",
       "      <th>usa_born_winner</th>\n",
       "    </tr>\n",
       "  </thead>\n",
       "  <tbody>\n",
       "    <tr>\n",
       "      <th>10</th>\n",
       "      <td>2000</td>\n",
       "      <td>0.422764</td>\n",
       "    </tr>\n",
       "  </tbody>\n",
       "</table>\n",
       "</div>"
      ],
      "text/plain": [
       "    decade  usa_born_winner\n",
       "10    2000         0.422764"
      ]
     },
     "execution_count": 45,
     "metadata": {},
     "output_type": "execute_result"
    }
   ],
   "source": [
    "# Identify the decade with the highest ratio of US-born winners\n",
    "max_decade_usa = usa_born_ratio[usa_born_ratio[\"usa_born_winner\"] == \\\n",
    "    usa_born_ratio[\"usa_born_winner\"].max()]\n",
    "\n",
    "max_decade_usa"
   ]
  },
  {
   "cell_type": "code",
   "execution_count": 46,
   "id": "52397ea6",
   "metadata": {},
   "outputs": [
    {
     "name": "stdout",
     "output_type": "stream",
     "text": [
      "The decade with the highest ratio of US-born winners: 2000\n"
     ]
    }
   ],
   "source": [
    "# Save the decade value\n",
    "result = max_decade_usa[\"decade\"].values[0]\n",
    "\n",
    "print(f\"The decade with the highest ratio of US-born winners: {result}\")"
   ]
  },
  {
   "cell_type": "code",
   "execution_count": 47,
   "id": "13512571",
   "metadata": {},
   "outputs": [
    {
     "data": {
      "image/png": "[encoded data removed]",
      "text/plain": [
       "<Figure size 500x500 with 1 Axes>"
      ]
     },
     "metadata": {},
     "output_type": "display_data"
    }
   ],
   "source": [
    "# Create a relational line plot\n",
    "sns.relplot(x=\"decade\", y=\"usa_born_winner\", data=usa_born_ratio, kind=\"line\")\n",
    "plt.title(\"Ratio of US-born winners over the decades\", y=1.05)\n",
    "plt.show()"
   ]
  },
  {
   "cell_type": "markdown",
   "id": "16c0f43c",
   "metadata": {},
   "source": [
    "**3. Find the decade and category with the highest proportion of female laureates**"
   ]
  },
  {
   "cell_type": "code",
   "execution_count": 48,
   "id": "bbbcff54",
   "metadata": {},
   "outputs": [
    {
     "data": {
      "text/html": [
       "<div>\n",
       "<style scoped>\n",
       "    .dataframe tbody tr th:only-of-type {\n",
       "        vertical-align: middle;\n",
       "    }\n",
       "\n",
       "    .dataframe tbody tr th {\n",
       "        vertical-align: top;\n",
       "    }\n",
       "\n",
       "    .dataframe thead th {\n",
       "        text-align: right;\n",
       "    }\n",
       "</style>\n",
       "<table border=\"1\" class=\"dataframe\">\n",
       "  <thead>\n",
       "    <tr style=\"text-align: right;\">\n",
       "      <th></th>\n",
       "      <th>decade</th>\n",
       "      <th>category</th>\n",
       "      <th>female_winner</th>\n",
       "    </tr>\n",
       "  </thead>\n",
       "  <tbody>\n",
       "    <tr>\n",
       "      <th>0</th>\n",
       "      <td>1900</td>\n",
       "      <td>Chemistry</td>\n",
       "      <td>0.000000</td>\n",
       "    </tr>\n",
       "    <tr>\n",
       "      <th>1</th>\n",
       "      <td>1900</td>\n",
       "      <td>Literature</td>\n",
       "      <td>0.100000</td>\n",
       "    </tr>\n",
       "    <tr>\n",
       "      <th>2</th>\n",
       "      <td>1900</td>\n",
       "      <td>Medicine</td>\n",
       "      <td>0.000000</td>\n",
       "    </tr>\n",
       "    <tr>\n",
       "      <th>3</th>\n",
       "      <td>1900</td>\n",
       "      <td>Peace</td>\n",
       "      <td>0.071429</td>\n",
       "    </tr>\n",
       "    <tr>\n",
       "      <th>4</th>\n",
       "      <td>1900</td>\n",
       "      <td>Physics</td>\n",
       "      <td>0.076923</td>\n",
       "    </tr>\n",
       "  </tbody>\n",
       "</table>\n",
       "</div>"
      ],
      "text/plain": [
       "   decade    category  female_winner\n",
       "0    1900   Chemistry       0.000000\n",
       "1    1900  Literature       0.100000\n",
       "2    1900    Medicine       0.000000\n",
       "3    1900       Peace       0.071429\n",
       "4    1900     Physics       0.076923"
      ]
     },
     "execution_count": 48,
     "metadata": {},
     "output_type": "execute_result"
    }
   ],
   "source": [
    "# Create a column for female Nobel laureates\n",
    "nobel[\"female_winner\"] = nobel[\"sex\"] == \"Female\"\n",
    "\n",
    "# Proportion of female Nobel laureates by decade and category\n",
    "prop_female_winners = nobel.groupby([\"decade\", \"category\"], as_index=False)[\"female_winner\"].mean()\n",
    "\n",
    "prop_female_winners.head()"
   ]
  },
  {
   "cell_type": "code",
   "execution_count": 49,
   "id": "a6087cd4",
   "metadata": {},
   "outputs": [
    {
     "data": {
      "text/html": [
       "<div>\n",
       "<style scoped>\n",
       "    .dataframe tbody tr th:only-of-type {\n",
       "        vertical-align: middle;\n",
       "    }\n",
       "\n",
       "    .dataframe tbody tr th {\n",
       "        vertical-align: top;\n",
       "    }\n",
       "\n",
       "    .dataframe thead th {\n",
       "        text-align: right;\n",
       "    }\n",
       "</style>\n",
       "<table border=\"1\" class=\"dataframe\">\n",
       "  <thead>\n",
       "    <tr style=\"text-align: right;\">\n",
       "      <th></th>\n",
       "      <th>decade</th>\n",
       "      <th>category</th>\n",
       "    </tr>\n",
       "  </thead>\n",
       "  <tbody>\n",
       "    <tr>\n",
       "      <th>68</th>\n",
       "      <td>2020</td>\n",
       "      <td>Literature</td>\n",
       "    </tr>\n",
       "  </tbody>\n",
       "</table>\n",
       "</div>"
      ],
      "text/plain": [
       "    decade    category\n",
       "68    2020  Literature"
      ]
     },
     "execution_count": 49,
     "metadata": {},
     "output_type": "execute_result"
    }
   ],
   "source": [
    "# Decade and category with the highest proportion of female laureates\n",
    "max_female_decade_category = prop_female_winners[prop_female_winners[\"female_winner\"] == \\\n",
    "    prop_female_winners[\"female_winner\"].max()]\n",
    "\n",
    "# Save only the 'decade' and 'category' values\n",
    "max_female_decade_category[[\"decade\", \"category\"]]"
   ]
  },
  {
   "cell_type": "code",
   "execution_count": 50,
   "id": "75aa5ffa",
   "metadata": {},
   "outputs": [
    {
     "data": {
      "text/plain": [
       "{2020: 'Literature'}"
      ]
     },
     "execution_count": 50,
     "metadata": {},
     "output_type": "execute_result"
    }
   ],
   "source": [
    "# Store the result as a dictionary\n",
    "max_female_dict = {\n",
    "    max_female_decade_category[\"decade\"].values[0]:\n",
    "    max_female_decade_category[\"category\"].values[0]\n",
    "}\n",
    "\n",
    "max_female_dict"
   ]
  },
  {
   "cell_type": "code",
   "execution_count": 51,
   "id": "f42bd63f",
   "metadata": {},
   "outputs": [
    {
     "name": "stdout",
     "output_type": "stream",
     "text": [
      "The decade and category with the highest proportion of female laureates: {2020: 'Literature'}\n"
     ]
    }
   ],
   "source": [
    "print(f\"The decade and category with the highest proportion of female laureates: {max_female_dict}\")"
   ]
  },
  {
   "cell_type": "code",
   "execution_count": 52,
   "id": "14fbdea0",
   "metadata": {},
   "outputs": [
    {
     "data": {
      "image/png": "[encoded data removed]",
      "text/plain": [
       "<Figure size 900x600 with 6 Axes>"
      ]
     },
     "metadata": {},
     "output_type": "display_data"
    }
   ],
   "source": [
    "'''Create a facet grid to visualize the proportion of female laureates over  \n",
    "the decades and across categories'''\n",
    "g = sns.FacetGrid(prop_female_winners, col=\"category\", col_wrap=3, height=3)\n",
    "g.map(sns.lineplot, \"decade\", \"female_winner\")\n",
    "g.fig.tight_layout()\n",
    "plt.suptitle(\"Proportion of Female Winners by Category and Decade.\", y=1.05)\n",
    "plt.show()"
   ]
  },
  {
   "cell_type": "markdown",
   "id": "dde43153",
   "metadata": {},
   "source": [
    "**4. Find the first woman to win a Nobel Prize and category won**"
   ]
  },
  {
   "cell_type": "code",
   "execution_count": 53,
   "id": "bbfa1d6c",
   "metadata": {},
   "outputs": [
    {
     "name": "stdout",
     "output_type": "stream",
     "text": [
      "The first woman to win the Nobel Prize was Marie Curie, née Sklodowska in the Physics category\n"
     ]
    }
   ],
   "source": [
    "# Filter DataFrame for female winners\n",
    "nobel_women = nobel[nobel[\"female_winner\"]]  # 'female_winner' column was created in an earlier step\n",
    "\n",
    "# Find lowest value in 'year' column\n",
    "min_row = nobel_women[nobel_women[\"year\"] == nobel_women[\"year\"].min()]\n",
    "\n",
    "# Find name and prize category\n",
    "first_woman_name = min_row[\"full_name\"].values[0]\n",
    "\n",
    "first_woman_category = min_row[\"category\"].values[0]\n",
    "\n",
    "print(f\"The first woman to win the Nobel Prize was {first_woman_name} in the {first_woman_category} category\")"
   ]
  },
  {
   "cell_type": "markdown",
   "id": "fff0b6fe",
   "metadata": {},
   "source": [
    "**5. Determine repeat winners**"
   ]
  },
  {
   "cell_type": "code",
   "execution_count": 54,
   "id": "ec216fd3",
   "metadata": {},
   "outputs": [
    {
     "name": "stdout",
     "output_type": "stream",
     "text": [
      "full_name\n",
      "Comité international de la Croix Rouge (International Committee of the Red Cross)    3\n",
      "Linus Carl Pauling                                                                   2\n",
      "John Bardeen                                                                         2\n",
      "Frederick Sanger                                                                     2\n",
      "Marie Curie, née Sklodowska                                                          2\n",
      "Name: count, dtype: int64\n"
     ]
    }
   ],
   "source": [
    "# Get the counts for each winner\n",
    "counts = nobel[\"full_name\"].value_counts()\n",
    "\n",
    "print(counts.head())"
   ]
  },
  {
   "cell_type": "code",
   "execution_count": 55,
   "id": "1a3a66ff",
   "metadata": {},
   "outputs": [
    {
     "name": "stdout",
     "output_type": "stream",
     "text": [
      "Individuals or organisations that have won more than one Nobel Prize:\n",
      "\n",
      "Comité international de la Croix Rouge (International Committee of the Red Cross)\n",
      "Linus Carl Pauling\n",
      "John Bardeen\n",
      "Frederick Sanger\n",
      "Marie Curie, née Sklodowska\n",
      "Office of the United Nations High Commissioner for Refugees (UNHCR)\n"
     ]
    }
   ],
   "source": [
    "# Keep only the names of repeat winners\n",
    "repeats = counts[counts >= 2].index\n",
    "\n",
    "# Save the names to a list\n",
    "repeat_list = list(repeats)\n",
    "\n",
    "print(\"Individuals or organisations that have won more than one Nobel Prize:\\n\")\n",
    "\n",
    "print('\\n'.join(repeat_list))"
   ]
  },
  {
   "cell_type": "markdown",
   "id": "306365d3",
   "metadata": {},
   "source": [
    "<div style=\"text-align: center; font-size: 18px; font-weight: bold; color:#007BFF;\">\n",
    "<span>[ End of notebook ]</span>\n",
    "</div>"
   ]
  }
 ],
 "metadata": {
  "editor": "DataCamp Workspace",
  "kernelspec": {
   "display_name": "my_env",
   "language": "python",
   "name": "python3"
  },
  "language_info": {
   "codemirror_mode": {
    "name": "ipython",
    "version": 3
   },
   "file_extension": ".py",
   "mimetype": "text/x-python",
   "name": "python",
   "nbconvert_exporter": "python",
   "pygments_lexer": "ipython3",
   "version": "3.12.4"
  }
 },
 "nbformat": 4,
 "nbformat_minor": 5
}
