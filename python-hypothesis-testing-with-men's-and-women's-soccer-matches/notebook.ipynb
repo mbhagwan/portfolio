{
 "cells": [
  {
   "cell_type": "markdown",
   "metadata": {},
   "source": [
    "### Hypothesis Testing with Men's and Women's Soccer Matches\n",
    "_Data Analysis in Python_\n",
    "\n",
    "---"
   ]
  },
  {
   "cell_type": "markdown",
   "metadata": {},
   "source": [
    "#### Introduction"
   ]
  },
  {
   "cell_type": "markdown",
   "metadata": {},
   "source": [
    "Completing this program equipped me with a range of valuable skills:\n",
    "\n",
    "1. **Statistical Analysis**: I gained proficiency in conducting statistical analyses, including hypothesis  \n",
    "testing, using Python libraries such as Pingouin and SciPy.\n",
    "\n",
    "2. **Data Preparation**: I learned how to efficiently filter and preprocess datasets, ensuring data is  \n",
    "relevant for analysis.\n",
    "\n",
    "3. **Data Visualization**: Through creating histograms and visualizing data distributions, I honed my skills  \n",
    "in data visualization, enabling me to communicate insights effectively.\n",
    "\n",
    "4. **Hypothesis Testing**: I deepened my understanding of hypothesis testing methodologies, particularly the  <br>Wilcoxon-Mann-Whitney test, and how to interpret results in the context of different significance levels.\n",
    "\n",
    "5. **Python Programming**: This project further solidified my Python programming skills, particularly in data <br>manipulation, analysis, and utilizing external libraries for statistical computations.\n",
    "\n",
    "6. **Critical Thinking and Problem-Solving**: Analyzing the research question and selecting appropriate  \n",
    "statistical methods required critical thinking and problem-solving skills, enhancing my ability to approach  \n",
    "complex problems systematically.\n",
    "\n",
    "Overall, this project provided a comprehensive learning experience in statistical analysis and data-driven  <br>decision-making within the domain of sports journalism and analytics."
   ]
  },
  {
   "cell_type": "markdown",
   "metadata": {},
   "source": [
    "#### Project Brief"
   ]
  },
  {
   "cell_type": "markdown",
   "metadata": {},
   "source": [
    "As a sports journalist your gut instinct tells you that more goals are scored in women's international football  \n",
    "matches than men's. Perform a valid statistical hypothesis test to be sure!\n",
    "\n",
    "Limit the data used in the analysis to only official `FIFA World Cup` matches (not including qualifiers) since  \n",
    "`2002-01-01` and assume that each match is fully independent, i.e., team form is ignored.\n",
    "\n",
    "Two datasets containing the results of every official men's and women's international football match since the  \n",
    "19th century, are stored in two CSV files: `women_results.csv` and `men_results.csv`"
   ]
  },
  {
   "cell_type": "markdown",
   "metadata": {},
   "source": [
    "#### Objective"
   ]
  },
  {
   "cell_type": "markdown",
   "metadata": {},
   "source": [
    "Determine the answer to the question:\n",
    "\n",
    "> Are more goals scored in women's international soccer matches than men's?\n",
    "\n",
    "Assume a **10% significance level**, and use the following null and alternative hypotheses:\n",
    "\n",
    "$H_{0}$: The mean number of goals scored in women's international soccer matches is the same as men's.\n",
    "\n",
    "$H_{A}$: The mean number of goals scored in women's international soccer matches is greater than men's."
   ]
  },
  {
   "cell_type": "markdown",
   "metadata": {},
   "source": [
    "Perform an appropriate hypothesis test to determine the p-value, and hence the result, of whether to reject  \n",
    "or fail to reject the null hypothesis. \n",
    "\n",
    "Store the p-value and the result of the test in a dictionary called `result_dict` in the form:\n",
    "\n",
    "`result_dict = {'p_val': p_val, 'result': result}`\n",
    "\n",
    "where `result` is either the string `'fail_to_reject'` or `'reject'`, depending on the result  \n",
    "of the test."
   ]
  },
  {
   "cell_type": "markdown",
   "metadata": {},
   "source": [
    "#### Start of Analysis"
   ]
  },
  {
   "cell_type": "code",
   "execution_count": 2,
   "metadata": {},
   "outputs": [],
   "source": [
    "# Load required libraries\n",
    "import pandas as pd\n",
    "import matplotlib.pyplot as plt\n",
    "import pingouin\n",
    "from scipy.stats import mannwhitneyu"
   ]
  },
  {
   "cell_type": "markdown",
   "metadata": {},
   "source": [
    "##### 1. Exploratory data analysis"
   ]
  },
  {
   "cell_type": "code",
   "execution_count": 3,
   "metadata": {},
   "outputs": [],
   "source": [
    "# Load the men's and women's datasets\n",
    "men = pd.read_csv('data/men_results.csv', index_col=0)\n",
    "women = pd.read_csv('data/women_results.csv', index_col=0)"
   ]
  },
  {
   "cell_type": "code",
   "execution_count": 4,
   "metadata": {},
   "outputs": [
    {
     "name": "stdout",
     "output_type": "stream",
     "text": [
      "<class 'pandas.core.frame.DataFrame'>\n",
      "Index: 44353 entries, 0 to 44352\n",
      "Data columns (total 6 columns):\n",
      " #   Column      Non-Null Count  Dtype \n",
      "---  ------      --------------  ----- \n",
      " 0   date        44353 non-null  object\n",
      " 1   home_team   44353 non-null  object\n",
      " 2   away_team   44353 non-null  object\n",
      " 3   home_score  44353 non-null  int64 \n",
      " 4   away_score  44353 non-null  int64 \n",
      " 5   tournament  44353 non-null  object\n",
      "dtypes: int64(2), object(4)\n",
      "memory usage: 2.4+ MB\n",
      "None\n"
     ]
    }
   ],
   "source": [
    "# Check column names & data types\n",
    "print(men.info())"
   ]
  },
  {
   "cell_type": "code",
   "execution_count": 5,
   "metadata": {},
   "outputs": [
    {
     "name": "stdout",
     "output_type": "stream",
     "text": [
      "<class 'pandas.core.frame.DataFrame'>\n",
      "Index: 4884 entries, 0 to 4883\n",
      "Data columns (total 6 columns):\n",
      " #   Column      Non-Null Count  Dtype \n",
      "---  ------      --------------  ----- \n",
      " 0   date        4884 non-null   object\n",
      " 1   home_team   4884 non-null   object\n",
      " 2   away_team   4884 non-null   object\n",
      " 3   home_score  4884 non-null   int64 \n",
      " 4   away_score  4884 non-null   int64 \n",
      " 5   tournament  4884 non-null   object\n",
      "dtypes: int64(2), object(4)\n",
      "memory usage: 267.1+ KB\n",
      "None\n"
     ]
    }
   ],
   "source": [
    "# Check column names & data types\n",
    "print(women.info())"
   ]
  },
  {
   "cell_type": "markdown",
   "metadata": {},
   "source": [
    "##### 2. Filter the data"
   ]
  },
  {
   "cell_type": "code",
   "execution_count": 6,
   "metadata": {},
   "outputs": [],
   "source": [
    "# Filter the data for the time range and tournament\n",
    "men['date'] = pd.to_datetime(men['date'])\n",
    "men_subset = men[(men['date'] > '2002-01-01') & (men['tournament'].isin(['FIFA World Cup']))]\n",
    "\n",
    "women['date'] = pd.to_datetime(women['date'])\n",
    "women_subset = women[(women['date'] > '2002-01-01') & (women['tournament'].isin(['FIFA World Cup']))]"
   ]
  },
  {
   "cell_type": "code",
   "execution_count": 16,
   "metadata": {},
   "outputs": [],
   "source": [
    "# Create group and goals_scored columns\n",
    "men_subset.loc[:, 'group'] = 'men'\n",
    "women_subset.loc[:, 'group'] = 'women'\n",
    "\n",
    "men_subset.loc[:, 'goals_scored'] = men['home_score'] + men['away_score']\n",
    "women_subset.loc[:, 'goals_scored'] = women['home_score'] + women['away_score']"
   ]
  },
  {
   "cell_type": "markdown",
   "metadata": {},
   "source": [
    "##### 3. Choosing the correct hypothesis test"
   ]
  },
  {
   "cell_type": "markdown",
   "metadata": {},
   "source": [
    "* Because there are two independent groups, men's and women's, this scenario requires an _unpaired_ two-sample  \n",
    "test.\n",
    "\n",
    "* An unpaired t-test and a non-parametric version of the unpaired t-test, the Wilcoxon-Mann-Whitney test, are  \n",
    "the two most common two-sample tests.\n",
    "\n",
    "* To determine if a parametric or non-parametric test is appropriate, verify the underlying assumptions of  \n",
    "parametric tests, including checking the sample size in each group and the normality of each distribution."
   ]
  },
  {
   "cell_type": "markdown",
   "metadata": {},
   "source": [
    "##### Determining if the data is normally distributed"
   ]
  },
  {
   "cell_type": "markdown",
   "metadata": {},
   "source": [
    "* The normal distribution is a symmetric bell-shaped curve, with the distribution centered around the mean.\n",
    "\n",
    "* Plot a histogram displaying the distribution of the number of goals scored in men's and women's matches to   \n",
    "check whether the data is normally distributed or not.\n",
    "\n",
    "* If the normality is unclear from the plot, run a test of normality, such as a Kolmogorov-Smirnov test or  \n",
    "the Shapiro-Wilk test."
   ]
  },
  {
   "cell_type": "code",
   "execution_count": 17,
   "metadata": {},
   "outputs": [
    {
     "data": {
      "image/png": "[encoded data removed]",
      "text/plain": [
       "<Figure size 640x480 with 1 Axes>"
      ]
     },
     "metadata": {},
     "output_type": "display_data"
    }
   ],
   "source": [
    "# Determine normality using a histogram\n",
    "men_subset['goals_scored'].hist()\n",
    "plt.title(\"Goals scored in men's matches\")\n",
    "plt.show()"
   ]
  },
  {
   "cell_type": "code",
   "execution_count": 18,
   "metadata": {},
   "outputs": [
    {
     "data": {
      "image/png": "[encoded data removed]",
      "text/plain": [
       "<Figure size 640x480 with 1 Axes>"
      ]
     },
     "metadata": {},
     "output_type": "display_data"
    }
   ],
   "source": [
    "# Determine normality using a histogram\n",
    "women_subset['goals_scored'].hist()\n",
    "plt.title(\"Goals scored in women's matches\")\n",
    "plt.show()"
   ]
  },
  {
   "cell_type": "markdown",
   "metadata": {},
   "source": [
    "##### 4. Performing the hypothesis test"
   ]
  },
  {
   "cell_type": "markdown",
   "metadata": {},
   "source": [
    "The Wilcoxon-Mann-Whitney test is the most appropriate in this scenario as the data is not normally distributed."
   ]
  },
  {
   "cell_type": "code",
   "execution_count": 19,
   "metadata": {},
   "outputs": [
    {
     "name": "stdout",
     "output_type": "stream",
     "text": [
      "        date      home_team    away_team  home_score  away_score  \\\n",
      "0 2003-09-20        Nigeria  North Korea           0           3   \n",
      "1 2003-09-20         Norway       France           2           0   \n",
      "2 2003-09-20        Germany       Canada           4           1   \n",
      "3 2003-09-20          Japan    Argentina           6           0   \n",
      "4 2003-09-21  United States       Sweden           3           1   \n",
      "\n",
      "       tournament  group  goals_scored  \n",
      "0  FIFA World Cup  women             3  \n",
      "1  FIFA World Cup  women             2  \n",
      "2  FIFA World Cup  women             5  \n",
      "3  FIFA World Cup  women             6  \n",
      "4  FIFA World Cup  women             4  \n"
     ]
    }
   ],
   "source": [
    "# Combine women's and men's data\n",
    "both = pd.concat([women_subset, men_subset], axis=0, ignore_index=True)\n",
    "print(both.head())"
   ]
  },
  {
   "cell_type": "code",
   "execution_count": 20,
   "metadata": {},
   "outputs": [],
   "source": [
    "# Transform the data for the Wilcoxon-Mann-Whitney test\n",
    "both_subset = both[['group', 'goals_scored']]\n",
    "# Pivot the DataFrame to wide-format as required by the test\n",
    "both_subset_wide = both_subset.pivot(columns='group', values='goals_scored')"
   ]
  },
  {
   "cell_type": "markdown",
   "metadata": {},
   "source": [
    "> Hypothesis test using pingouin\n",
    "\n",
    "`pingouin.mwu()` can be used to perform a Wilcoxon-Mann-Whitney test. It takes three arguments:  \n",
    "\n",
    "* `x`, the values from the pivoted table which are suspected to be higher from the hypothesis,\n",
    "* `y`, the values to compare against,\n",
    "* `alternative`, an argument indicating whether the test is left-tailed, right-tailed, or two-tailed"
   ]
  },
  {
   "cell_type": "code",
   "execution_count": 21,
   "metadata": {},
   "outputs": [
    {
     "name": "stdout",
     "output_type": "stream",
     "text": [
      "       U-val alternative     p-val       RBC      CLES\n",
      "MWU  43273.0     greater  0.005107 -0.126901  0.563451\n"
     ]
    }
   ],
   "source": [
    "# Run a right-tailed test with pingouin\n",
    "results_pg = pingouin.mwu(\n",
    "    x=both_subset_wide['women'],\n",
    "    y=both_subset_wide['men'],\n",
    "    alternative='greater'\n",
    ")\n",
    "print(results_pg)"
   ]
  },
  {
   "cell_type": "markdown",
   "metadata": {},
   "source": [
    "> Hypothesis test using SciPy (alternative method)\n",
    "\n",
    "`scipy.stats.mannwhitneyu()` can be used to perform a Wilcoxon-Mann-Whitney test.  \n",
    "It takes three arguments:\n",
    "\n",
    "* `x`, the values suspected to be higher from the hypothesis,\n",
    "* `y`, the values to compare against,\n",
    "* `alternative`, an argument indicating whether the test is left-tailed, right-tailed, or two-tailed\n"
   ]
  },
  {
   "cell_type": "code",
   "execution_count": 22,
   "metadata": {},
   "outputs": [
    {
     "name": "stdout",
     "output_type": "stream",
     "text": [
      "MannwhitneyuResult(statistic=43273.0, pvalue=0.005106609825443641)\n"
     ]
    }
   ],
   "source": [
    "# Run a right-tailed test with SciPy\n",
    "results_scipy = mannwhitneyu(\n",
    "    women_subset['goals_scored'],\n",
    "    men_subset['goals_scored'],\n",
    "    alternative='greater'\n",
    ")\n",
    "print(results_scipy)"
   ]
  },
  {
   "cell_type": "code",
   "execution_count": 23,
   "metadata": {},
   "outputs": [
    {
     "name": "stdout",
     "output_type": "stream",
     "text": [
      "0.005106609825443641\n"
     ]
    }
   ],
   "source": [
    "# Extract p-value from pingouin test result\n",
    "p_val = results_pg['p-val'].values[0]\n",
    "print(p_val)"
   ]
  },
  {
   "cell_type": "markdown",
   "metadata": {},
   "source": [
    "##### 5. Interpreting the result of the hypothesis test"
   ]
  },
  {
   "cell_type": "markdown",
   "metadata": {},
   "source": [
    "* If $p-value \\le 0.1 $, reject the null hypothesis, otherwise, fail to reject it."
   ]
  },
  {
   "cell_type": "code",
   "execution_count": 24,
   "metadata": {},
   "outputs": [
    {
     "name": "stdout",
     "output_type": "stream",
     "text": [
      "{'p_val': 0.005106609825443641, 'result': 'reject'}\n"
     ]
    }
   ],
   "source": [
    "# Determine hypothesis test result\n",
    "if p_val <= 0.1:\n",
    "    result = 'reject'\n",
    "else:\n",
    "    result = 'fail to reject'\n",
    "\n",
    "result_dict = {'p_val': p_val, 'result': result}\n",
    "print(result_dict)"
   ]
  },
  {
   "cell_type": "markdown",
   "metadata": {},
   "source": [
    "##### Conclusion"
   ]
  },
  {
   "cell_type": "markdown",
   "metadata": {},
   "source": [
    "The result of the hypothesis test shows the mean number of goals scored in women's international soccer  \n",
    "matches is greater than men's."
   ]
  }
 ],
 "metadata": {
  "kernelspec": {
   "display_name": "Python 3",
   "language": "python",
   "name": "python3"
  },
  "language_info": {
   "codemirror_mode": {
    "name": "ipython",
    "version": 3
   },
   "file_extension": ".py",
   "mimetype": "text/x-python",
   "name": "python",
   "nbconvert_exporter": "python",
   "pygments_lexer": "ipython3",
   "version": "3.11.5"
  }
 },
 "nbformat": 4,
 "nbformat_minor": 2
}
