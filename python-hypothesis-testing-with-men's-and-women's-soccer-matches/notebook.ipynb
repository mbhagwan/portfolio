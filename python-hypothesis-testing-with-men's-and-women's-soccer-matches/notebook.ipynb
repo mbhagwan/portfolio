{
 "cells": [
  {
   "cell_type": "markdown",
   "id": "900ef309",
   "metadata": {},
   "source": [
    "<h1 style=\"text-align: center\">Hypothesis Testing with Men's and Women's Soccer Matches</h1>"
   ]
  },
  {
   "cell_type": "markdown",
   "id": "3ed0edb2-696b-49ab-9db0-681defcce695",
   "metadata": {},
   "source": [
    "<figure>\n",
    "<img src=\"soccer-pitch.jpg\" alt=\"A soccer pitch for an international match\">\n",
    "<figcaption style=\"font-size: 11px; text-align: center\">A soccer pitch for an international match</figcaption>\n",
    "</figure>  \n",
    "\n",
    "As a sports journalist specializing in soccer analysis and reporting, your gut instinct tells you that more  \n",
    "goals are scored in women's international football matches than men's.  \n",
    "\n",
    "This would make an interesting investigative article that your subscribers are bound to love, but you'll   \n",
    "need to perform a valid statistical hypothesis test to be sure!\n",
    "\n",
    "Limit the data used in the analysis to only official `FIFA World Cup` matches (excluding qualifiers)  \n",
    "since `2002-01-01`.\n",
    "\n",
    "Data, containing the results of every official men's and women's international football match since the  \n",
    "19th century, is stored in two CSV files: `women_results.csv` and `men_results.csv`."
   ]
  },
  {
   "cell_type": "markdown",
   "id": "0c24ff39",
   "metadata": {},
   "source": [
    "Determine the answer to the question:\n",
    "\n",
    "> Are more goals scored in women's international soccer matches than men's?\n",
    "\n",
    "Assume a **10% significance level**, and also assume that each match is fully independent,  \n",
    "i.e., team form is ignored. Use the following null and alternative hypotheses:\n",
    "\n",
    "$H_0$ : The mean number of goals scored in women's international soccer matches is the same as men's.\n",
    "\n",
    "$H_A$ : The mean number of goals scored in women's international soccer matches is greater than men's."
   ]
  },
  {
   "cell_type": "code",
   "execution_count": 125,
   "id": "d8558633",
   "metadata": {},
   "outputs": [],
   "source": [
    "# Import required libraries\n",
    "import pandas as pd\n",
    "import numpy as np \n",
    "import matplotlib.pyplot as plt \n",
    "import seaborn as sns\n",
    "import pingouin\n",
    "from scipy.stats import mannwhitneyu\n",
    "\n",
    "# Change the default console output settings in NumPy and pandas to improve readability\n",
    "pd.options.display.max_columns = 20\n",
    "pd.options.display.max_rows = 20\n",
    "pd.options.display.max_colwidth = 80\n",
    "np.set_printoptions(precision=4, suppress=True)"
   ]
  },
  {
   "cell_type": "code",
   "execution_count": 126,
   "id": "b7151723",
   "metadata": {},
   "outputs": [],
   "source": [
    "# Load the men's dataset and preprocess 'date' column\n",
    "men = pd.read_csv(\"data/men_results.csv\", parse_dates=[\"date\"], index_col=0)\n",
    "\n",
    "# Load the women's dataset and preprocess 'date' column\n",
    "women = pd.read_csv(\"data/women_results.csv\", parse_dates=[\"date\"], index_col=0)"
   ]
  },
  {
   "cell_type": "markdown",
   "id": "3006f7d5",
   "metadata": {},
   "source": [
    "**1. Exploratory data analysis**"
   ]
  },
  {
   "cell_type": "code",
   "execution_count": 127,
   "id": "58aa9fa0",
   "metadata": {},
   "outputs": [
    {
     "name": "stdout",
     "output_type": "stream",
     "text": [
      "<class 'pandas.core.frame.DataFrame'>\n",
      "Index: 44353 entries, 0 to 44352\n",
      "Data columns (total 6 columns):\n",
      " #   Column      Non-Null Count  Dtype         \n",
      "---  ------      --------------  -----         \n",
      " 0   date        44353 non-null  datetime64[ns]\n",
      " 1   home_team   44353 non-null  object        \n",
      " 2   away_team   44353 non-null  object        \n",
      " 3   home_score  44353 non-null  int64         \n",
      " 4   away_score  44353 non-null  int64         \n",
      " 5   tournament  44353 non-null  object        \n",
      "dtypes: datetime64[ns](1), int64(2), object(3)\n",
      "memory usage: 2.4+ MB\n"
     ]
    }
   ],
   "source": [
    "# Check the column names and data types\n",
    "men.info()"
   ]
  },
  {
   "cell_type": "code",
   "execution_count": 128,
   "id": "40b1d39b",
   "metadata": {},
   "outputs": [
    {
     "data": {
      "text/plain": [
       "tournament\n",
       "Friendly                                17519\n",
       "FIFA World Cup qualification             7878\n",
       "UEFA Euro qualification                  2585\n",
       "African Cup of Nations qualification     1932\n",
       "FIFA World Cup                            964\n",
       "                                        ...  \n",
       "Real Madrid 75th Anniversary Cup            1\n",
       "Évence Coppée Trophy                        1\n",
       "Copa Confraternidad                         1\n",
       "TIFOCO Tournament                           1\n",
       "FIFA 75th Anniversary Cup                   1\n",
       "Name: count, Length: 141, dtype: int64"
      ]
     },
     "execution_count": 128,
     "metadata": {},
     "output_type": "execute_result"
    }
   ],
   "source": [
    "# Check the count of unique values in 'tournament' column\n",
    "men[\"tournament\"].value_counts()"
   ]
  },
  {
   "cell_type": "code",
   "execution_count": 129,
   "id": "02e629e7",
   "metadata": {},
   "outputs": [
    {
     "name": "stdout",
     "output_type": "stream",
     "text": [
      "<class 'pandas.core.frame.DataFrame'>\n",
      "Index: 4884 entries, 0 to 4883\n",
      "Data columns (total 6 columns):\n",
      " #   Column      Non-Null Count  Dtype         \n",
      "---  ------      --------------  -----         \n",
      " 0   date        4884 non-null   datetime64[ns]\n",
      " 1   home_team   4884 non-null   object        \n",
      " 2   away_team   4884 non-null   object        \n",
      " 3   home_score  4884 non-null   int64         \n",
      " 4   away_score  4884 non-null   int64         \n",
      " 5   tournament  4884 non-null   object        \n",
      "dtypes: datetime64[ns](1), int64(2), object(3)\n",
      "memory usage: 267.1+ KB\n"
     ]
    }
   ],
   "source": [
    "# Check column names and data types\n",
    "women.info()"
   ]
  },
  {
   "cell_type": "code",
   "execution_count": 130,
   "id": "a81454f0",
   "metadata": {},
   "outputs": [
    {
     "data": {
      "text/plain": [
       "tournament\n",
       "UEFA Euro qualification             1445\n",
       "Algarve Cup                          551\n",
       "FIFA World Cup                       284\n",
       "AFC Championship                     268\n",
       "Cyprus Cup                           258\n",
       "                                    ... \n",
       "Tournament of Nations                 12\n",
       "Tournoi de France                     12\n",
       "CONCACAF Invitational Tournament       6\n",
       "OFC Nations Cup qualification          6\n",
       "Basque Country Women's Cup             4\n",
       "Name: count, Length: 30, dtype: int64"
      ]
     },
     "execution_count": 130,
     "metadata": {},
     "output_type": "execute_result"
    }
   ],
   "source": [
    "# Check the count of unique values in 'tournament' column\n",
    "women[\"tournament\"].value_counts()"
   ]
  },
  {
   "cell_type": "markdown",
   "id": "914dd832",
   "metadata": {},
   "source": [
    "**2. Filtering the data**"
   ]
  },
  {
   "cell_type": "markdown",
   "id": "e1e69558",
   "metadata": {},
   "source": [
    "Filter the data to only include official FIFA World Cup matches that took place after 2002-01-01"
   ]
  },
  {
   "cell_type": "code",
   "execution_count": 131,
   "id": "00f0244c",
   "metadata": {},
   "outputs": [
    {
     "data": {
      "text/html": [
       "<div>\n",
       "<style scoped>\n",
       "    .dataframe tbody tr th:only-of-type {\n",
       "        vertical-align: middle;\n",
       "    }\n",
       "\n",
       "    .dataframe tbody tr th {\n",
       "        vertical-align: top;\n",
       "    }\n",
       "\n",
       "    .dataframe thead th {\n",
       "        text-align: right;\n",
       "    }\n",
       "</style>\n",
       "<table border=\"1\" class=\"dataframe\">\n",
       "  <thead>\n",
       "    <tr style=\"text-align: right;\">\n",
       "      <th></th>\n",
       "      <th>date</th>\n",
       "      <th>home_team</th>\n",
       "      <th>away_team</th>\n",
       "      <th>home_score</th>\n",
       "      <th>away_score</th>\n",
       "      <th>tournament</th>\n",
       "      <th>group</th>\n",
       "      <th>goals_scored</th>\n",
       "    </tr>\n",
       "  </thead>\n",
       "  <tbody>\n",
       "    <tr>\n",
       "      <th>25164</th>\n",
       "      <td>2002-05-31</td>\n",
       "      <td>France</td>\n",
       "      <td>Senegal</td>\n",
       "      <td>0</td>\n",
       "      <td>1</td>\n",
       "      <td>FIFA World Cup</td>\n",
       "      <td>men</td>\n",
       "      <td>1</td>\n",
       "    </tr>\n",
       "    <tr>\n",
       "      <th>25165</th>\n",
       "      <td>2002-06-01</td>\n",
       "      <td>Germany</td>\n",
       "      <td>Saudi Arabia</td>\n",
       "      <td>8</td>\n",
       "      <td>0</td>\n",
       "      <td>FIFA World Cup</td>\n",
       "      <td>men</td>\n",
       "      <td>8</td>\n",
       "    </tr>\n",
       "    <tr>\n",
       "      <th>25166</th>\n",
       "      <td>2002-06-01</td>\n",
       "      <td>Republic of Ireland</td>\n",
       "      <td>Cameroon</td>\n",
       "      <td>1</td>\n",
       "      <td>1</td>\n",
       "      <td>FIFA World Cup</td>\n",
       "      <td>men</td>\n",
       "      <td>2</td>\n",
       "    </tr>\n",
       "    <tr>\n",
       "      <th>25167</th>\n",
       "      <td>2002-06-01</td>\n",
       "      <td>Uruguay</td>\n",
       "      <td>Denmark</td>\n",
       "      <td>1</td>\n",
       "      <td>2</td>\n",
       "      <td>FIFA World Cup</td>\n",
       "      <td>men</td>\n",
       "      <td>3</td>\n",
       "    </tr>\n",
       "    <tr>\n",
       "      <th>25168</th>\n",
       "      <td>2002-06-02</td>\n",
       "      <td>Argentina</td>\n",
       "      <td>Nigeria</td>\n",
       "      <td>1</td>\n",
       "      <td>0</td>\n",
       "      <td>FIFA World Cup</td>\n",
       "      <td>men</td>\n",
       "      <td>1</td>\n",
       "    </tr>\n",
       "  </tbody>\n",
       "</table>\n",
       "</div>"
      ],
      "text/plain": [
       "            date            home_team     away_team  home_score  away_score  \\\n",
       "25164 2002-05-31               France       Senegal           0           1   \n",
       "25165 2002-06-01              Germany  Saudi Arabia           8           0   \n",
       "25166 2002-06-01  Republic of Ireland      Cameroon           1           1   \n",
       "25167 2002-06-01              Uruguay       Denmark           1           2   \n",
       "25168 2002-06-02            Argentina       Nigeria           1           0   \n",
       "\n",
       "           tournament group  goals_scored  \n",
       "25164  FIFA World Cup   men             1  \n",
       "25165  FIFA World Cup   men             8  \n",
       "25166  FIFA World Cup   men             2  \n",
       "25167  FIFA World Cup   men             3  \n",
       "25168  FIFA World Cup   men             1  "
      ]
     },
     "execution_count": 131,
     "metadata": {},
     "output_type": "execute_result"
    }
   ],
   "source": [
    "# Filtering men's data for FIFA World Cup matches after 2002-01-01\n",
    "men = men[(men[\"tournament\"].isin([\"FIFA World Cup\"])) & (men[\"date\"] > \"2002-01-01\")]\n",
    "\n",
    "# Create 'group' and 'goals_scored' columns in the men's DataFrame\n",
    "men[\"group\"] = 'men'\n",
    "\n",
    "men[\"goals_scored\"] = men[\"home_score\"] + men[\"away_score\"]\n",
    "\n",
    "men.head()"
   ]
  },
  {
   "cell_type": "code",
   "execution_count": 132,
   "id": "56165f31",
   "metadata": {},
   "outputs": [
    {
     "data": {
      "text/html": [
       "<div>\n",
       "<style scoped>\n",
       "    .dataframe tbody tr th:only-of-type {\n",
       "        vertical-align: middle;\n",
       "    }\n",
       "\n",
       "    .dataframe tbody tr th {\n",
       "        vertical-align: top;\n",
       "    }\n",
       "\n",
       "    .dataframe thead th {\n",
       "        text-align: right;\n",
       "    }\n",
       "</style>\n",
       "<table border=\"1\" class=\"dataframe\">\n",
       "  <thead>\n",
       "    <tr style=\"text-align: right;\">\n",
       "      <th></th>\n",
       "      <th>date</th>\n",
       "      <th>home_team</th>\n",
       "      <th>away_team</th>\n",
       "      <th>home_score</th>\n",
       "      <th>away_score</th>\n",
       "      <th>tournament</th>\n",
       "      <th>group</th>\n",
       "      <th>goals_scored</th>\n",
       "    </tr>\n",
       "  </thead>\n",
       "  <tbody>\n",
       "    <tr>\n",
       "      <th>1600</th>\n",
       "      <td>2003-09-20</td>\n",
       "      <td>Nigeria</td>\n",
       "      <td>North Korea</td>\n",
       "      <td>0</td>\n",
       "      <td>3</td>\n",
       "      <td>FIFA World Cup</td>\n",
       "      <td>women</td>\n",
       "      <td>3</td>\n",
       "    </tr>\n",
       "    <tr>\n",
       "      <th>1601</th>\n",
       "      <td>2003-09-20</td>\n",
       "      <td>Norway</td>\n",
       "      <td>France</td>\n",
       "      <td>2</td>\n",
       "      <td>0</td>\n",
       "      <td>FIFA World Cup</td>\n",
       "      <td>women</td>\n",
       "      <td>2</td>\n",
       "    </tr>\n",
       "    <tr>\n",
       "      <th>1602</th>\n",
       "      <td>2003-09-20</td>\n",
       "      <td>Germany</td>\n",
       "      <td>Canada</td>\n",
       "      <td>4</td>\n",
       "      <td>1</td>\n",
       "      <td>FIFA World Cup</td>\n",
       "      <td>women</td>\n",
       "      <td>5</td>\n",
       "    </tr>\n",
       "    <tr>\n",
       "      <th>1603</th>\n",
       "      <td>2003-09-20</td>\n",
       "      <td>Japan</td>\n",
       "      <td>Argentina</td>\n",
       "      <td>6</td>\n",
       "      <td>0</td>\n",
       "      <td>FIFA World Cup</td>\n",
       "      <td>women</td>\n",
       "      <td>6</td>\n",
       "    </tr>\n",
       "    <tr>\n",
       "      <th>1604</th>\n",
       "      <td>2003-09-21</td>\n",
       "      <td>United States</td>\n",
       "      <td>Sweden</td>\n",
       "      <td>3</td>\n",
       "      <td>1</td>\n",
       "      <td>FIFA World Cup</td>\n",
       "      <td>women</td>\n",
       "      <td>4</td>\n",
       "    </tr>\n",
       "  </tbody>\n",
       "</table>\n",
       "</div>"
      ],
      "text/plain": [
       "           date      home_team    away_team  home_score  away_score  \\\n",
       "1600 2003-09-20        Nigeria  North Korea           0           3   \n",
       "1601 2003-09-20         Norway       France           2           0   \n",
       "1602 2003-09-20        Germany       Canada           4           1   \n",
       "1603 2003-09-20          Japan    Argentina           6           0   \n",
       "1604 2003-09-21  United States       Sweden           3           1   \n",
       "\n",
       "          tournament  group  goals_scored  \n",
       "1600  FIFA World Cup  women             3  \n",
       "1601  FIFA World Cup  women             2  \n",
       "1602  FIFA World Cup  women             5  \n",
       "1603  FIFA World Cup  women             6  \n",
       "1604  FIFA World Cup  women             4  "
      ]
     },
     "execution_count": 132,
     "metadata": {},
     "output_type": "execute_result"
    }
   ],
   "source": [
    "# Filtering women's data for FIFA World Cup matches after 2002-01-01\n",
    "women = women[(women[\"tournament\"].isin([\"FIFA World Cup\"])) & (women[\"date\"] > \"2002-01-01\")]\n",
    "\n",
    "# Create 'group' and 'goals_scored' columns in the women's DataFrame\n",
    "women[\"group\"] = 'women'\n",
    "\n",
    "women[\"goals_scored\"] = women[\"home_score\"] + women[\"away_score\"]\n",
    "\n",
    "women.head()"
   ]
  },
  {
   "cell_type": "markdown",
   "id": "09c63d8b",
   "metadata": {},
   "source": [
    "**3. Choosing the correct hypothesis test**"
   ]
  },
  {
   "cell_type": "markdown",
   "id": "df0ad3c3",
   "metadata": {},
   "source": [
    "* Determining the type of hypothesis test\n",
    "\n",
    "  * Because there are two independent groups, men's and women's, this scenario requires an unpaired  \n",
    "    two-sample test.\n",
    "\n",
    "  * An unpaired t-test and a Wilcoxon-Mann-Whitney test are the two most commmon two-sample tests,  \n",
    "    where the Wilcoxon-Mann-Whitney test is a non-parametric version of the unpaired t-test.\n",
    "\n",
    "  * To determine if a parametric or non-parametric test is appropriate, verify the underlying assumptions of  \n",
    "  parametric tests, including checking the sample size in each group and the normality of each distribution."
   ]
  },
  {
   "cell_type": "code",
   "execution_count": 133,
   "id": "507e19fd",
   "metadata": {},
   "outputs": [
    {
     "data": {
      "image/png": "[encoded data removed]",
      "text/plain": [
       "<Figure size 640x480 with 1 Axes>"
      ]
     },
     "metadata": {},
     "output_type": "display_data"
    },
    {
     "name": "stdout",
     "output_type": "stream",
     "text": [
      "The men's dataset is not normally distributed.\n"
     ]
    }
   ],
   "source": [
    "# Check if men's data is normallly distributed\n",
    "men[\"goals_scored\"].hist()\n",
    "plt.xlabel(\"Goals scored\")\n",
    "plt.ylabel(\"Frequency\")\n",
    "plt.title(\"Goals scored in men's matches\")\n",
    "plt.show()\n",
    "\n",
    "print(\"The men's dataset is not normally distributed.\")"
   ]
  },
  {
   "cell_type": "code",
   "execution_count": 134,
   "id": "7b6226eb",
   "metadata": {},
   "outputs": [
    {
     "data": {
      "image/png": "[encoded data removed]",
      "text/plain": [
       "<Figure size 640x480 with 1 Axes>"
      ]
     },
     "metadata": {},
     "output_type": "display_data"
    },
    {
     "name": "stdout",
     "output_type": "stream",
     "text": [
      "The women's dataset is not normally distributed.\n"
     ]
    }
   ],
   "source": [
    "# Check if women's data is normally distributed\n",
    "women[\"goals_scored\"].hist()\n",
    "plt.xlabel(\"Goals scored\")\n",
    "plt.ylabel(\"Frequency\")\n",
    "plt.title(\"Goals scored in women's matches\")\n",
    "plt.show()\n",
    "\n",
    "print(\"The women's dataset is not normally distributed.\")"
   ]
  },
  {
   "cell_type": "code",
   "execution_count": 135,
   "id": "9cf79723",
   "metadata": {},
   "outputs": [
    {
     "name": "stdout",
     "output_type": "stream",
     "text": [
      "The men's dataset has a sample size of 384\n",
      "\n",
      "The women's dataset has a sample size of 200\n"
     ]
    }
   ],
   "source": [
    "# Sample size of men's data\n",
    "men_sample_size = len(men)\n",
    "\n",
    "print(f\"The men's dataset has a sample size of {men_sample_size}\")\n",
    "\n",
    "# Sample size of women's data\n",
    "women_sample_size = len(women)\n",
    "\n",
    "print(f\"\\nThe women's dataset has a sample size of {women_sample_size}\")"
   ]
  },
  {
   "cell_type": "markdown",
   "id": "c8e84acf",
   "metadata": {},
   "source": [
    "An unpaired t-test (also known as an independent samples t-test) is used to compare the means of two  \n",
    "independent groups. It's a parametric test, meaning it assumes that the data is normally distributed.   \n",
    "\n",
    "A sample size of 30 or more is generally considered sufficient for many statistical tests, especially  \n",
    "when the population distribution is approximately normal.\n",
    "\n",
    "Since the data is not normally distributed, the non-parametric, Wilcoxon-Mann-Whitney test is more  \n",
    "appropriate."
   ]
  },
  {
   "cell_type": "markdown",
   "id": "146a4752",
   "metadata": {},
   "source": [
    "**4. Performing the hypothesis test**"
   ]
  },
  {
   "cell_type": "markdown",
   "id": "67c3b930",
   "metadata": {},
   "source": [
    "**Method 1 - Using SciPy**"
   ]
  },
  {
   "cell_type": "markdown",
   "id": "cc6766d7",
   "metadata": {},
   "source": [
    "`scipy.stats.mannwhitneyu()` can be used to perform a Wilcoxon-Mann-Whitney test.  \n",
    "It takes three arguments:\n",
    "\n",
    "* `x`, the values suspected to be higher from the hypothesis,\n",
    "* `y`, the values to compare against,\n",
    "* `alternative`, an argument indicating whether the test is left-tailed, right-tailed, or two-tailed"
   ]
  },
  {
   "cell_type": "code",
   "execution_count": null,
   "id": "0405044b",
   "metadata": {},
   "outputs": [
    {
     "name": "stdout",
     "output_type": "stream",
     "text": [
      "MannwhitneyuResult(statistic=43273.0, pvalue=0.005106609825443641)\n"
     ]
    }
   ],
   "source": [
    "'''Alternative hypothesis: The mean number of goals scored in women's international soccer matches  \n",
    "is greater than men's. Based on the alternative hypothesis, a right-tailed test is required.'''\n",
    "\n",
    "results_scipy = mannwhitneyu(\n",
    "    x=women[\"goals_scored\"],  # The x argument takes the values suspected to be higher from the hypothesis\n",
    "    y=men[\"goals_scored\"],\n",
    "    alternative=\"greater\"\n",
    ")\n",
    "\n",
    "print(results_scipy)"
   ]
  },
  {
   "cell_type": "markdown",
   "id": "40f9eb94",
   "metadata": {},
   "source": [
    "**Method 2 - Using pinguoin**"
   ]
  },
  {
   "cell_type": "markdown",
   "id": "927cae9d",
   "metadata": {},
   "source": [
    "`pingouin.mwu()` can be used to perform a Wilcoxon-Mann-Whitney test. It takes three arguments:  \n",
    "\n",
    "* `x`, the values from the pivoted table which are suspected to be higher from the hypothesis,\n",
    "* `y`, the values to compare against,\n",
    "* `alternative`, an argument indicating whether the test is left-tailed, right-tailed, or two-tailed\n",
    "\n",
    "`pingouin.mwu()` requires a DataFrame pivoted to wide-format."
   ]
  },
  {
   "cell_type": "code",
   "execution_count": 137,
   "id": "a4a8c1d1",
   "metadata": {},
   "outputs": [
    {
     "data": {
      "text/html": [
       "<div>\n",
       "<style scoped>\n",
       "    .dataframe tbody tr th:only-of-type {\n",
       "        vertical-align: middle;\n",
       "    }\n",
       "\n",
       "    .dataframe tbody tr th {\n",
       "        vertical-align: top;\n",
       "    }\n",
       "\n",
       "    .dataframe thead th {\n",
       "        text-align: right;\n",
       "    }\n",
       "</style>\n",
       "<table border=\"1\" class=\"dataframe\">\n",
       "  <thead>\n",
       "    <tr style=\"text-align: right;\">\n",
       "      <th></th>\n",
       "      <th>date</th>\n",
       "      <th>home_team</th>\n",
       "      <th>away_team</th>\n",
       "      <th>home_score</th>\n",
       "      <th>away_score</th>\n",
       "      <th>tournament</th>\n",
       "      <th>group</th>\n",
       "      <th>goals_scored</th>\n",
       "    </tr>\n",
       "  </thead>\n",
       "  <tbody>\n",
       "    <tr>\n",
       "      <th>0</th>\n",
       "      <td>2002-05-31</td>\n",
       "      <td>France</td>\n",
       "      <td>Senegal</td>\n",
       "      <td>0</td>\n",
       "      <td>1</td>\n",
       "      <td>FIFA World Cup</td>\n",
       "      <td>men</td>\n",
       "      <td>1</td>\n",
       "    </tr>\n",
       "    <tr>\n",
       "      <th>1</th>\n",
       "      <td>2002-06-01</td>\n",
       "      <td>Germany</td>\n",
       "      <td>Saudi Arabia</td>\n",
       "      <td>8</td>\n",
       "      <td>0</td>\n",
       "      <td>FIFA World Cup</td>\n",
       "      <td>men</td>\n",
       "      <td>8</td>\n",
       "    </tr>\n",
       "    <tr>\n",
       "      <th>2</th>\n",
       "      <td>2002-06-01</td>\n",
       "      <td>Republic of Ireland</td>\n",
       "      <td>Cameroon</td>\n",
       "      <td>1</td>\n",
       "      <td>1</td>\n",
       "      <td>FIFA World Cup</td>\n",
       "      <td>men</td>\n",
       "      <td>2</td>\n",
       "    </tr>\n",
       "    <tr>\n",
       "      <th>3</th>\n",
       "      <td>2002-06-01</td>\n",
       "      <td>Uruguay</td>\n",
       "      <td>Denmark</td>\n",
       "      <td>1</td>\n",
       "      <td>2</td>\n",
       "      <td>FIFA World Cup</td>\n",
       "      <td>men</td>\n",
       "      <td>3</td>\n",
       "    </tr>\n",
       "    <tr>\n",
       "      <th>4</th>\n",
       "      <td>2002-06-02</td>\n",
       "      <td>Argentina</td>\n",
       "      <td>Nigeria</td>\n",
       "      <td>1</td>\n",
       "      <td>0</td>\n",
       "      <td>FIFA World Cup</td>\n",
       "      <td>men</td>\n",
       "      <td>1</td>\n",
       "    </tr>\n",
       "  </tbody>\n",
       "</table>\n",
       "</div>"
      ],
      "text/plain": [
       "        date            home_team     away_team  home_score  away_score  \\\n",
       "0 2002-05-31               France       Senegal           0           1   \n",
       "1 2002-06-01              Germany  Saudi Arabia           8           0   \n",
       "2 2002-06-01  Republic of Ireland      Cameroon           1           1   \n",
       "3 2002-06-01              Uruguay       Denmark           1           2   \n",
       "4 2002-06-02            Argentina       Nigeria           1           0   \n",
       "\n",
       "       tournament group  goals_scored  \n",
       "0  FIFA World Cup   men             1  \n",
       "1  FIFA World Cup   men             8  \n",
       "2  FIFA World Cup   men             2  \n",
       "3  FIFA World Cup   men             3  \n",
       "4  FIFA World Cup   men             1  "
      ]
     },
     "execution_count": 137,
     "metadata": {},
     "output_type": "execute_result"
    }
   ],
   "source": [
    "# Combine men's and women's data\n",
    "both = pd.concat([men, women], axis=0, ignore_index=True)\n",
    "\n",
    "both.head()"
   ]
  },
  {
   "cell_type": "code",
   "execution_count": 138,
   "id": "78e96499",
   "metadata": {},
   "outputs": [
    {
     "data": {
      "text/html": [
       "<div>\n",
       "<style scoped>\n",
       "    .dataframe tbody tr th:only-of-type {\n",
       "        vertical-align: middle;\n",
       "    }\n",
       "\n",
       "    .dataframe tbody tr th {\n",
       "        vertical-align: top;\n",
       "    }\n",
       "\n",
       "    .dataframe thead th {\n",
       "        text-align: right;\n",
       "    }\n",
       "</style>\n",
       "<table border=\"1\" class=\"dataframe\">\n",
       "  <thead>\n",
       "    <tr style=\"text-align: right;\">\n",
       "      <th></th>\n",
       "      <th>group</th>\n",
       "      <th>goals_scored</th>\n",
       "    </tr>\n",
       "  </thead>\n",
       "  <tbody>\n",
       "    <tr>\n",
       "      <th>0</th>\n",
       "      <td>men</td>\n",
       "      <td>1</td>\n",
       "    </tr>\n",
       "    <tr>\n",
       "      <th>1</th>\n",
       "      <td>men</td>\n",
       "      <td>8</td>\n",
       "    </tr>\n",
       "    <tr>\n",
       "      <th>2</th>\n",
       "      <td>men</td>\n",
       "      <td>2</td>\n",
       "    </tr>\n",
       "    <tr>\n",
       "      <th>3</th>\n",
       "      <td>men</td>\n",
       "      <td>3</td>\n",
       "    </tr>\n",
       "    <tr>\n",
       "      <th>4</th>\n",
       "      <td>men</td>\n",
       "      <td>1</td>\n",
       "    </tr>\n",
       "  </tbody>\n",
       "</table>\n",
       "</div>"
      ],
      "text/plain": [
       "  group  goals_scored\n",
       "0   men             1\n",
       "1   men             8\n",
       "2   men             2\n",
       "3   men             3\n",
       "4   men             1"
      ]
     },
     "execution_count": 138,
     "metadata": {},
     "output_type": "execute_result"
    }
   ],
   "source": [
    "# Select only columns required for the test\n",
    "both_subset = both[[\"group\", \"goals_scored\"]]\n",
    "\n",
    "both_subset.head()"
   ]
  },
  {
   "cell_type": "code",
   "execution_count": 139,
   "id": "5b468700",
   "metadata": {},
   "outputs": [
    {
     "data": {
      "text/html": [
       "<div>\n",
       "<style scoped>\n",
       "    .dataframe tbody tr th:only-of-type {\n",
       "        vertical-align: middle;\n",
       "    }\n",
       "\n",
       "    .dataframe tbody tr th {\n",
       "        vertical-align: top;\n",
       "    }\n",
       "\n",
       "    .dataframe thead th {\n",
       "        text-align: right;\n",
       "    }\n",
       "</style>\n",
       "<table border=\"1\" class=\"dataframe\">\n",
       "  <thead>\n",
       "    <tr style=\"text-align: right;\">\n",
       "      <th>group</th>\n",
       "      <th>men</th>\n",
       "      <th>women</th>\n",
       "    </tr>\n",
       "  </thead>\n",
       "  <tbody>\n",
       "    <tr>\n",
       "      <th>0</th>\n",
       "      <td>1.0</td>\n",
       "      <td>NaN</td>\n",
       "    </tr>\n",
       "    <tr>\n",
       "      <th>1</th>\n",
       "      <td>8.0</td>\n",
       "      <td>NaN</td>\n",
       "    </tr>\n",
       "    <tr>\n",
       "      <th>2</th>\n",
       "      <td>2.0</td>\n",
       "      <td>NaN</td>\n",
       "    </tr>\n",
       "    <tr>\n",
       "      <th>3</th>\n",
       "      <td>3.0</td>\n",
       "      <td>NaN</td>\n",
       "    </tr>\n",
       "    <tr>\n",
       "      <th>4</th>\n",
       "      <td>1.0</td>\n",
       "      <td>NaN</td>\n",
       "    </tr>\n",
       "  </tbody>\n",
       "</table>\n",
       "</div>"
      ],
      "text/plain": [
       "group  men  women\n",
       "0      1.0    NaN\n",
       "1      8.0    NaN\n",
       "2      2.0    NaN\n",
       "3      3.0    NaN\n",
       "4      1.0    NaN"
      ]
     },
     "execution_count": 139,
     "metadata": {},
     "output_type": "execute_result"
    }
   ],
   "source": [
    "# Transform the DataFrame to wide-format\n",
    "both_subset_wide = pd.pivot(data=both_subset, columns=\"group\", values=\"goals_scored\")\n",
    "\n",
    "both_subset_wide.head()"
   ]
  },
  {
   "cell_type": "code",
   "execution_count": null,
   "id": "1330f3de",
   "metadata": {},
   "outputs": [
    {
     "name": "stdout",
     "output_type": "stream",
     "text": [
      "       U-val alternative     p-val       RBC      CLES\n",
      "MWU  43273.0     greater  0.005107  0.126901  0.563451\n"
     ]
    }
   ],
   "source": [
    "'''Alternative hypothesis: The mean number of goals scored in women's international soccer matches  \n",
    "is greater than men's. Based on the alternative hypothesis, a right-tailed test is required.'''\n",
    "\n",
    "result_pg = pingouin.mwu(\n",
    "    x=both_subset_wide[\"women\"],  # The x argument takes the values suspected to be higher from the hypothesis\n",
    "    y=both_subset_wide[\"men\"],\n",
    "    alternative=\"greater\"\n",
    ")\n",
    "\n",
    "print(result_pg)"
   ]
  },
  {
   "cell_type": "markdown",
   "id": "9ca984e1",
   "metadata": {},
   "source": [
    "**5. Interpreting the result of the hypothesis test**"
   ]
  },
  {
   "cell_type": "code",
   "execution_count": 141,
   "id": "81faca5d",
   "metadata": {},
   "outputs": [
    {
     "name": "stdout",
     "output_type": "stream",
     "text": [
      "p-value returned by the SciPy method: 0.005106609825443641\n",
      "\n",
      "p-value returned by the pingouin method: 0.005106609825443641\n"
     ]
    }
   ],
   "source": [
    "# Extract the p-value from the SciPy test\n",
    "scipy_pval = results_scipy.pvalue\n",
    "\n",
    "# Extract the p-value from the pingouin test\n",
    "pingouin_pval = result_pg[\"p-val\"].values[0]\n",
    "\n",
    "print(f\"p-value returned by the SciPy method: {scipy_pval}\")\n",
    "\n",
    "print(f\"\\np-value returned by the pingouin method: {pingouin_pval}\")\n"
   ]
  },
  {
   "cell_type": "markdown",
   "id": "a8f0f60d",
   "metadata": {},
   "source": [
    "Both methods returned the same result and either method may be used to find the p-value used to  \n",
    "determine the results of the hypothesis test.\n",
    "\n",
    "Based on the initial assumption of a 10% significance level:\n",
    "\n",
    "* If $p-value \\le 0.1 $, reject the null hypothesis, otherwise, fail to reject it."
   ]
  },
  {
   "cell_type": "code",
   "execution_count": 142,
   "id": "4d12729a",
   "metadata": {},
   "outputs": [
    {
     "name": "stdout",
     "output_type": "stream",
     "text": [
      "{'p-value': 0.005106609825443641, 'result': 'Reject the null hypothesis'}\n"
     ]
    }
   ],
   "source": [
    "# Determine the hypothesis test result\n",
    "if scipy_pval <= 0.1:\n",
    "    result = \"Reject the null hypothesis\"\n",
    "else:\n",
    "    result = \"Fail to reject the null hypothesis\"\n",
    "\n",
    "result_dict = {\"p-value\": scipy_pval, \"result\": result}\n",
    "\n",
    "print(result_dict)"
   ]
  },
  {
   "cell_type": "markdown",
   "id": "e81de9f0",
   "metadata": {},
   "source": [
    "**Hypothesis test result:**  \n",
    "\n",
    "The mean number of goals scored in women's international soccer matches is greater than men's."
   ]
  },
  {
   "cell_type": "markdown",
   "id": "6d3ef980",
   "metadata": {},
   "source": [
    "<div style=\"text-align: center; font-size: 18px; font-weight: bold; color: #007BFF;\">\n",
    "<span>[ End of notebook ]</span>\n",
    "</div>"
   ]
  }
 ],
 "metadata": {
  "colab": {
   "name": "Welcome to DataCamp Workspaces.ipynb",
   "provenance": []
  },
  "kernelspec": {
   "display_name": "my_env",
   "language": "python",
   "name": "python3"
  },
  "language_info": {
   "codemirror_mode": {
    "name": "ipython",
    "version": 3
   },
   "file_extension": ".py",
   "mimetype": "text/x-python",
   "name": "python",
   "nbconvert_exporter": "python",
   "pygments_lexer": "ipython3",
   "version": "3.12.4"
  }
 },
 "nbformat": 4,
 "nbformat_minor": 5
}
